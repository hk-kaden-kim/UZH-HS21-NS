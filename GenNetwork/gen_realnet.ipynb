{
 "cells": [
  {
   "cell_type": "code",
   "execution_count": null,
   "metadata": {},
   "outputs": [],
   "source": [
    "# Each node in G is either a road intersection,\n",
    "# a rail station or a metro station.\n",
    "# metro 356->303(type = metro), train 241"
   ]
  },
  {
   "cell_type": "code",
   "execution_count": 2,
   "metadata": {},
   "outputs": [],
   "source": [
    "import networkx as nx"
   ]
  },
  {
   "cell_type": "code",
   "execution_count": 74,
   "metadata": {},
   "outputs": [],
   "source": [
    "G = nx.read_graphml(\"../data/graphml/multigraph.graphml\")"
   ]
  },
  {
   "cell_type": "code",
   "execution_count": 75,
   "metadata": {},
   "outputs": [
    {
     "name": "stdout",
     "output_type": "stream",
     "text": [
      "42678\n",
      "544\n"
     ]
    }
   ],
   "source": [
    "print(len(G.nodes))\n",
    "n_id = []\n",
    "for n in G.nodes:\n",
    "    if G.nodes[n] != {}:\n",
    "        isMetro = G.nodes[n]['type'] == 'metro'\n",
    "        isTrain = G.nodes[n]['type'] == 'train'\n",
    "        if (isMetro or isTrain):\n",
    "            # print(isMetro, isTrain)\n",
    "            n_id.append(n)\n",
    "\n",
    "print(len(n_id))\n",
    "\n",
    "\n",
    "\n",
    "# G.remove_nodes_from(r_n)\n",
    "# print(len(G.nodes()))"
   ]
  },
  {
   "cell_type": "code",
   "execution_count": null,
   "metadata": {},
   "outputs": [],
   "source": []
  }
 ],
 "metadata": {
  "interpreter": {
   "hash": "aee8b7b246df8f9039afb4144a1f6fd8d2ca17a180786b69acc140d282b71a49"
  },
  "kernelspec": {
   "display_name": "Python 3.9.1 64-bit",
   "language": "python",
   "name": "python3"
  },
  "language_info": {
   "codemirror_mode": {
    "name": "ipython",
    "version": 3
   },
   "file_extension": ".py",
   "mimetype": "text/x-python",
   "name": "python",
   "nbconvert_exporter": "python",
   "pygments_lexer": "ipython3",
   "version": "3.9.1"
  },
  "orig_nbformat": 4
 },
 "nbformat": 4,
 "nbformat_minor": 2
}
