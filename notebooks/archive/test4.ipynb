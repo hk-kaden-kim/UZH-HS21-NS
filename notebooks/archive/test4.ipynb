{
 "cells": [
  {
   "cell_type": "code",
   "execution_count": 1,
   "metadata": {},
   "outputs": [],
   "source": [
    "import os\n",
    "import sys\n",
    "module_path = os.path.abspath(os.path.join('../..'))\n",
    "if module_path not in sys.path:\n",
    "    sys.path.append(module_path)\n",
    "from src.attack import *\n",
    "from src.create import *\n",
    "from src.measure import *\n",
    "import networkx as nx"
   ]
  },
  {
   "cell_type": "code",
   "execution_count": 2,
   "metadata": {},
   "outputs": [],
   "source": [
    "e_file = \"../../data/edge/edge.csv\"\n",
    "n_file = \"../../data/vertex/vertex.csv\"\n",
    "\n",
    "G_train, df_n_train, df_e_train = paris_GenTranspNet(n_file,e_file,'train',1)\n",
    "G_metro, df_n_metro, df_e_metro = paris_GenTranspNet(n_file,e_file,'metro',2)\n",
    "\n",
    "edges_m_tr = \"../../data/edge/edge_m_tr.csv\"\n",
    "\n",
    "G_intd_m_tr, e_m_tr = paris_GenMultiTranspNet(G_metro, G_train, edges_m_tr)"
   ]
  },
  {
   "cell_type": "code",
   "execution_count": 3,
   "metadata": {},
   "outputs": [
    {
     "name": "stdout",
     "output_type": "stream",
     "text": [
      "...Interdependent Graph Generate Done! 0:00:00.235489\n",
      "giant comp_set layer count:  0 240 120\n",
      "...test: '0.000000' is Done! 0:00:00.752747\n",
      "giant comp_set layer count:  1 242 122\n",
      "...test: '0.052632' is Done! 0:00:00.641787\n",
      "giant comp_set layer count:  0 240 120\n",
      "...test: '0.105263' is Done! 0:00:00.493915\n",
      "giant comp_set layer count:  0 240 120\n",
      "...test: '0.157895' is Done! 0:00:00.523328\n",
      "giant comp_set layer count:  0 240 120\n",
      "...test: '0.210526' is Done! 0:00:00.467590\n",
      "giant comp_set layer count:  0 240 120\n",
      "...test: '0.263158' is Done! 0:00:00.456734\n",
      "giant comp_set layer count:  0 240 120\n",
      "...test: '0.315789' is Done! 0:00:00.439048\n",
      "giant comp_set layer count:  0 240 120\n",
      "...test: '0.368421' is Done! 0:00:00.423225\n",
      "giant comp_set layer count:  3 242 124\n",
      "...test: '0.421053' is Done! 0:00:00.396507\n",
      "giant comp_set layer count:  3 242 124\n",
      "...test: '0.473684' is Done! 0:00:00.305867\n",
      "giant comp_set layer count:  0 240 120\n",
      "...test: '0.526316' is Done! 0:00:00.355485\n",
      "giant comp_set layer count:  5 242 126\n",
      "...test: '0.578947' is Done! 0:00:00.311017\n",
      "giant comp_set layer count:  45 246 168\n",
      "...test: '0.631579' is Done! 0:00:00.309671\n",
      "giant comp_set layer count:  53 330 218\n",
      "...test: '0.684211' is Done! 0:00:00.291728\n",
      "giant comp_set layer count:  128 342 299\n",
      "...test: '0.736842' is Done! 0:00:00.200474\n",
      "giant comp_set layer count:  104 254 231\n",
      "...test: '0.789474' is Done! 0:00:00.223370\n",
      "giant comp_set layer count:  188 418 397\n",
      "...test: '0.842105' is Done! 0:00:00.126979\n",
      "giant comp_set layer count:  205 424 417\n",
      "...test: '0.894737' is Done! 0:00:00.152451\n",
      "giant comp_set layer count:  266 432 482\n",
      "...test: '0.947368' is Done! 0:00:00.069600\n",
      "giant comp_set layer count:  297 440 517\n",
      "...test: '1.000000' is Done! 0:00:00.019217\n"
     ]
    }
   ],
   "source": [
    "ps, p_inf = generate_pinf_real(n_file, e_file, edges_m_tr, order = [\"metro\",\"train\"], t=1)"
   ]
  },
  {
   "cell_type": "code",
   "execution_count": 4,
   "metadata": {},
   "outputs": [
    {
     "name": "stdout",
     "output_type": "stream",
     "text": [
      "...Interdependent Graph Generate Done! 0:00:00.239538\n",
      "giant comp_set layer count:  0 234 117\n",
      "...test: '0.000000' is Done! 0:00:00.460153\n",
      "giant comp_set layer count:  1 256 129\n",
      "...test: '0.052632' is Done! 0:00:00.445992\n",
      "giant comp_set layer count:  0 234 117\n",
      "...test: '0.105263' is Done! 0:00:00.418720\n",
      "giant comp_set layer count:  2 350 177\n",
      "...test: '0.157895' is Done! 0:00:00.401036\n",
      "giant comp_set layer count:  5 428 219\n",
      "...test: '0.210526' is Done! 0:00:00.445540\n",
      "giant comp_set layer count:  9 462 240\n",
      "...test: '0.263158' is Done! 0:00:00.383475\n",
      "giant comp_set layer count:  0 234 117\n",
      "...test: '0.315789' is Done! 0:00:00.408777\n",
      "giant comp_set layer count:  16 476 254\n",
      "...test: '0.368421' is Done! 0:00:00.366801\n",
      "giant comp_set layer count:  11 402 212\n",
      "...test: '0.421053' is Done! 0:00:00.359173\n",
      "giant comp_set layer count:  15 530 280\n",
      "...test: '0.473684' is Done! 0:00:00.360796\n",
      "giant comp_set layer count:  17 472 253\n",
      "...test: '0.526316' is Done! 0:00:00.278268\n",
      "giant comp_set layer count:  17 504 269\n",
      "...test: '0.578947' is Done! 0:00:00.308535\n",
      "giant comp_set layer count:  22 544 294\n",
      "...test: '0.631579' is Done! 0:00:00.269627\n",
      "giant comp_set layer count:  42 552 318\n",
      "...test: '0.684211' is Done! 0:00:00.181073\n",
      "giant comp_set layer count:  43 558 322\n",
      "...test: '0.736842' is Done! 0:00:00.251251\n",
      "giant comp_set layer count:  23 508 277\n",
      "...test: '0.789474' is Done! 0:00:00.166195\n",
      "giant comp_set layer count:  71 584 363\n",
      "...test: '0.842105' is Done! 0:00:00.141444\n",
      "giant comp_set layer count:  116 546 389\n",
      "...test: '0.894737' is Done! 0:00:00.087008\n",
      "giant comp_set layer count:  152 568 436\n",
      "...test: '0.947368' is Done! 0:00:00.050011\n",
      "giant comp_set layer count:  220 594 517\n",
      "...test: '1.000000' is Done! 0:00:00.019010\n"
     ]
    }
   ],
   "source": [
    "ps, p_inf = generate_pinf_real(n_file, e_file, edges_m_tr, order = [\"train\",\"metro\"], t=1)"
   ]
  },
  {
   "cell_type": "code",
   "execution_count": 11,
   "metadata": {},
   "outputs": [
    {
     "name": "stdout",
     "output_type": "stream",
     "text": [
      "metro <k>:  2.34983498349835\n",
      "train <k>:  2.024896265560166\n",
      "intd metro train <k>:  2.4411764705882355\n"
     ]
    }
   ],
   "source": [
    "G_avg_k_lst = []\n",
    "for G in [G_metro, G_train, G_intd_m_tr]:\n",
    "    G_nodes = len(G.nodes())\n",
    "    G_sum_k = np.sum([G.degree()[i] for i in G.nodes()])\n",
    "    G_avg_k = G_sum_k / G_nodes\n",
    "    G_avg_k_lst.append(G_avg_k)\n",
    "\n",
    "G_metro_avgk = G_avg_k_lst[0]\n",
    "G_train_avgk = G_avg_k_lst[1]\n",
    "G_intd_m_tr_avgk = G_avg_k_lst[2]\n",
    "\n",
    "print(\"metro <k>: \",G_metro_avgk)\n",
    "print(\"train <k>: \",G_train_avgk)\n",
    "print(\"intd metro train <k>: \",G_intd_m_tr_avgk)"
   ]
  },
  {
   "cell_type": "code",
   "execution_count": 2,
   "metadata": {},
   "outputs": [],
   "source": [
    "# metro 2.35\n",
    "# train 2.02\n",
    "# intd 2.44"
   ]
  },
  {
   "cell_type": "code",
   "execution_count": 15,
   "metadata": {},
   "outputs": [
    {
     "data": {
      "image/png": "[encoded data removed]",
      "text/plain": [
       "<Figure size 432x288 with 1 Axes>"
      ]
     },
     "metadata": {
      "needs_background": "light"
     },
     "output_type": "display_data"
    }
   ],
   "source": [
    "metro_data = np.loadtxt('../results/PARIS/single_metro_t50.csv',delimiter=\",\")\n",
    "train_data = np.loadtxt('../results/PARIS/single_train_t50.csv',delimiter=\",\")\n",
    "intd_m_tr_data = np.loadtxt('../results/PARIS/Paris_train_metro_new_t50.csv',delimiter=\",\")\n",
    "\n",
    "metro_data_scale = metro_data[0]*G_metro_avgk\n",
    "train_data_scale = train_data[0]*G_train_avgk\n",
    "intd_m_tr_data_scale = intd_m_tr_data[0]*G_intd_m_tr_avgk\n",
    "\n",
    "plt.plot(metro_data_scale, metro_data[1])\n",
    "plt.plot(train_data_scale, train_data[1])\n",
    "plt.plot(intd_m_tr_data_scale, intd_m_tr_data[1])\n",
    "\n",
    "\n",
    "\n",
    "results = [metro_data,train_data,intd_m_tr_data]\n",
    "labels=[\"metro_data\", \"train_data\", \"intd_m_tr_data\"]\n",
    "path=\"intd_total.png\"\n",
    "\n",
    "# plot_pinf\n",
    "# plt.rcParams.update({'font.size': 14})\n",
    "# color = iter(plt.cm.rainbow(np.linspace(0.0, 1, len(results))))\n",
    "# marker = ['v', 's', 'D', 'v']\n",
    "\n",
    "# for i, res in enumerate(results):\n",
    "#     pks = res[0] * k\n",
    "#     p_infs = res[1]\n",
    "\n",
    "#     plt.plot(pks, p_infs, c=next(color), linewidth=2)\n",
    "\n",
    "# if p_theory:\n",
    "#     plt.vlines(2.4554, ymin=0, ymax=1, colors='k', linestyles='dashdot', label='$p_{c}$=2.4554/<k>')\n",
    "# if k > 1:\n",
    "#     plt.xlabel('p<k>')\n",
    "# else:\n",
    "#     plt.xlabel('p')\n",
    "#     # plt.xlabel('$P_{node}$(fail)')\n",
    "# if residual:\n",
    "#     plt.hlines(results[0][1][0], xmin=0, xmax=1, linestyles='dotted', colors='k')\n",
    "# plt.ylabel('$P_{inf}$')\n",
    "# plt.xlim(2,4)\n",
    "# plt.ylim(0, 1)\n",
    "# # plt.ylabel('$P_{node}$(in Gcomponent)')\n",
    "# if labels:\n",
    "#     plt.legend(labels)\n",
    "# plt.savefig(path, dpi=300, bbox_inches='tight')\n",
    "# plt.grid()\n",
    "# plt.show()\n",
    "\n",
    "# plot_pinf([ metro_data, train_data, intd_m_tr_data], 1, labels=[\"SF, lamda=2.8\", \"SF, lamda=2.9\", \"SF, lamda=3.0\",\"ER\"], path=\"../notebooks/figure/SFpinf_282930ER_k4.png\", p_theory=False)\n",
    "\n",
    "# print(\"Scale-Free(Power Law) Cascade-Failure Figure\")\n",
    "# print(\"Each point is the mean value of Pinf under Cascade-Failure Trials : 50 times. \")\n",
    "# print(\"<k> = 4 ± 0.12\")\n",
    "# print(\"../notebooks/figure/SFpinf_282930_k4.png\")"
   ]
  },
  {
   "cell_type": "code",
   "execution_count": null,
   "metadata": {},
   "outputs": [],
   "source": []
  }
 ],
 "metadata": {
  "interpreter": {
   "hash": "aee8b7b246df8f9039afb4144a1f6fd8d2ca17a180786b69acc140d282b71a49"
  },
  "kernelspec": {
   "display_name": "Python 3",
   "language": "python",
   "name": "python3"
  },
  "language_info": {
   "codemirror_mode": {
    "name": "ipython",
    "version": 3
   },
   "file_extension": ".py",
   "mimetype": "text/x-python",
   "name": "python",
   "nbconvert_exporter": "python",
   "pygments_lexer": "ipython3",
   "version": "3.8.5"
  }
 },
 "nbformat": 4,
 "nbformat_minor": 2
}
