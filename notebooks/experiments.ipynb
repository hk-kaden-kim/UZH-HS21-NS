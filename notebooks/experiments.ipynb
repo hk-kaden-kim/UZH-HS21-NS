{
 "cells": [
  {
   "cell_type": "code",
   "execution_count": 3,
   "id": "82388888",
   "metadata": {},
   "outputs": [],
   "source": [
    "%load_ext autoreload\n",
    "%autoreload 2"
   ]
  },
  {
   "cell_type": "code",
   "execution_count": 4,
   "id": "6eaf47fa",
   "metadata": {},
   "outputs": [],
   "source": [
    "import os\n",
    "import sys\n",
    "module_path = os.path.abspath(os.path.join('..'))\n",
    "if module_path not in sys.path:\n",
    "    sys.path.append(module_path)\n",
    "from src.attack import *\n",
    "from src.create import *\n",
    "from src.measure import *"
   ]
  },
  {
   "cell_type": "markdown",
   "id": "2848d514",
   "metadata": {},
   "source": [
    "ER"
   ]
  },
  {
   "cell_type": "code",
   "execution_count": null,
   "id": "501643ec",
   "metadata": {},
   "outputs": [],
   "source": [
    "# compute p_in with different parameters \n",
    "#ERn250k4 = generate_pinf_ER(250, 4)  # ER model, node=250, k=4\n",
    "ERn1000k4 = generate_pinf_ER(1000, 4)  # ER model, node=1000, k=4\n",
    "ERn2000k4 = generate_pinf_ER(2000, 4)  # ER model, node=2000, k=4\n",
    "\n",
    "#np.savetxt('./results/ERn250k4.csv', ERn250k4, delimiter=',')\n",
    "np.savetxt('./results/ERn1000k4.csv', ERn1000k4, delimiter=',')\n",
    "np.savetxt('./results/ERn2000k4.csv', ERn2000k4, delimiter=',')"
   ]
  },
  {
   "cell_type": "code",
   "execution_count": null,
   "id": "8844365b",
   "metadata": {},
   "outputs": [],
   "source": [
    "#load\n",
    "ERn250k4 = np.loadtxt('./results/ERn250k4.csv',delimiter=\",\")\n",
    "ERn1000k4 = np.loadtxt('./results/ERn1000k4.csv',delimiter=\",\")\n",
    "ERn2000k4 = np.loadtxt('./results/ERn2000k4.csv',delimiter=\",\")\n",
    "\n",
    "plot_pinf([ERn250k4, ERn1000k4, ERn2000k4], 4, [\"ER, n=250, k=4\", \"ER, n=1000, k=4\", \"ER, n=2000, k=4\"],\n",
    "              path=\"../notebooks/figure/ER_pinf.png\", p_theory=False)"
   ]
  },
  {
   "cell_type": "code",
   "execution_count": null,
   "id": "85c125c4",
   "metadata": {},
   "outputs": [],
   "source": [
    "SF"
   ]
  },
  {
   "cell_type": "code",
   "execution_count": null,
   "id": "50742522",
   "metadata": {},
   "outputs": [],
   "source": [
    "SFn500g23 = generate_pinf_SF(500, 2.3)  # SF model, node=500, gamma=2.3\n",
    "SFn500g27 = generate_pinf_SF(500, 2.7)  # SF model, node=500, gamma=2.7\n",
    "SFn500g3 = generate_pinf_SF(500, 3)  # SF model, node=500, gamma=3\n",
    "\n",
    "plot_pinf([SFn500g23, SFn500g27, SFn500g3], 4, [\"SF, n=500, l=2.3\", \"SF, n=500, l=2.7\", \"SF, n=500, l=3\"],\n",
    "              path=\"../notebooks/figure/SF_pinf.png\", p_theory=False)"
   ]
  },
  {
   "cell_type": "code",
   "execution_count": null,
   "id": "811064c9",
   "metadata": {},
   "outputs": [],
   "source": [
    "# %%\n",
    "# 1 ER\n",
    "ER_a = networkER_w_3Dpos(20, 10, 1)\n",
    "ER_b = networkER_w_3Dpos(20, 10, 2)\n",
    "intd_ER = intd_random_net(ER_a, ER_b)\n",
    "\n",
    "print(len(intd_ER.nodes()))\n",
    "grndm.intdNetworkDraw(intd_ER)\n",
    "\n",
    "# %%\n",
    "# 1-1 ER Attacked\n",
    "intd_ER_attck = cas.attack_network(intd_ER, ER_a, ER_b, 0.8, False)\n",
    "\n",
    "print(len(intd_ER_attck.nodes()))\n",
    "grndm.intdNetworkDraw(intd_ER_attck)\n",
    "print(\":)\")"
   ]
  },
  {
   "cell_type": "code",
   "execution_count": null,
   "id": "b84eb7f6",
   "metadata": {},
   "outputs": [],
   "source": [
    "# %%\n",
    "# 2 SF_BA\n",
    "SF_BA_a = grndm.networkSF_w_3Dpos_BA(20, 2, 1)\n",
    "SF_BA_b = grndm.networkSF_w_3Dpos_BA(20, 2, 2)\n",
    "intd_SF_BA = grndm.intd_random_net(SF_BA_a, SF_BA_b)\n",
    "\n",
    "print(len(intd_SF_BA.nodes()))\n",
    "grndm.intdNetworkDraw(intd_SF_BA)\n",
    "# %%\n",
    "# 2-1 SF_BA Attacked\n",
    "intd_SF_BA_attck = cas.attack_network(intd_SF_BA, SF_BA_a, SF_BA_b, 0.8, False)\n",
    "\n",
    "print(len(intd_SF_BA_attck.nodes()))\n",
    "grndm.intdNetworkDraw(intd_SF_BA_attck)"
   ]
  },
  {
   "cell_type": "code",
   "execution_count": null,
   "id": "ebeb8c52",
   "metadata": {},
   "outputs": [],
   "source": [
    "# %%\n",
    "# 3 SF_PowerL\n",
    "SF_PowerL_a = grndm.networkSF_w_3Dpos_PowerL(100, 2.5, 1)\n",
    "SF_PowerL_b = grndm.networkSF_w_3Dpos_PowerL(100, 2.5, 2)\n",
    "intd_SF_PowerL = grndm.intd_random_net(SF_PowerL_a, SF_PowerL_b)\n",
    "\n",
    "print(len(intd_SF_PowerL.nodes()))\n",
    "grndm.intdNetworkDraw(intd_SF_PowerL)\n",
    "# %%\n",
    "# 3-1 SF_PowerL Attacked\n",
    "intd_SF_PowerL_attck = cas.attack_network(intd_SF_PowerL, SF_PowerL_a, SF_PowerL_b, 0.8, False)\n",
    "\n",
    "print(len(intd_SF_PowerL_attck.nodes()))\n",
    "grndm.intdNetworkDraw(intd_SF_PowerL_attck)\n",
    "print(\":)\")\n",
    "# %%"
   ]
  }
 ],
 "metadata": {
  "kernelspec": {
   "display_name": "Python 3 (ipykernel)",
   "language": "python",
   "name": "python3"
  },
  "language_info": {
   "codemirror_mode": {
    "name": "ipython",
    "version": 3
   },
   "file_extension": ".py",
   "mimetype": "text/x-python",
   "name": "python",
   "nbconvert_exporter": "python",
   "pygments_lexer": "ipython3",
   "version": "3.9.7"
  }
 },
 "nbformat": 4,
 "nbformat_minor": 5
}
