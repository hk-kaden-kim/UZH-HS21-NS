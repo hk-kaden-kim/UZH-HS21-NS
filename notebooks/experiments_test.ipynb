{
 "cells": [
  {
   "cell_type": "code",
   "execution_count": 1,
   "metadata": {},
   "outputs": [],
   "source": [
    "%load_ext autoreload\n",
    "%autoreload "
   ]
  },
  {
   "cell_type": "code",
   "execution_count": 2,
   "metadata": {},
   "outputs": [],
   "source": [
    "import os\n",
    "import sys\n",
    "module_path = os.path.abspath(os.path.join('..'))\n",
    "if module_path not in sys.path:\n",
    "    sys.path.append(module_path)\n",
    "from src.attack import *\n",
    "from src.create import *\n",
    "from src.measure import *"
   ]
  },
  {
   "cell_type": "code",
   "execution_count": 3,
   "metadata": {},
   "outputs": [
    {
     "name": "stdout",
     "output_type": "stream",
     "text": [
      "...Interdependent Graph Generate Done! 0:00:00.254758\n",
      "giant component :  120\n",
      "giant component init :  544\n",
      "giant component :  120\n",
      "giant component init :  544\n",
      "giant component :  120\n",
      "giant component init :  544\n",
      "giant component :  120\n",
      "giant component init :  544\n",
      "giant component :  120\n",
      "giant component init :  544\n",
      "...test: '0.000000' is Done! 0:00:02.668980\n",
      "giant component :  120\n",
      "giant component init :  544\n",
      "giant component :  120\n",
      "giant component init :  544\n",
      "giant component :  120\n",
      "giant component init :  544\n",
      "giant component :  120\n",
      "giant component init :  544\n",
      "giant component :  120\n",
      "giant component init :  544\n",
      "...test: '0.052632' is Done! 0:00:02.618238\n",
      "giant component :  120\n",
      "giant component init :  544\n",
      "giant component :  120\n",
      "giant component init :  544\n",
      "giant component :  120\n",
      "giant component init :  544\n",
      "giant component :  120\n",
      "giant component init :  544\n",
      "giant component :  120\n",
      "giant component init :  544\n",
      "...test: '0.105263' is Done! 0:00:02.533033\n",
      "giant component :  122\n",
      "giant component init :  544\n",
      "giant component :  120\n",
      "giant component init :  544\n",
      "giant component :  120\n",
      "giant component init :  544\n",
      "giant component :  120\n",
      "giant component init :  544\n",
      "giant component :  120\n",
      "giant component init :  544\n",
      "...test: '0.157895' is Done! 0:00:02.339334\n",
      "giant component :  124\n",
      "giant component init :  544\n",
      "giant component :  120\n",
      "giant component init :  544\n",
      "giant component :  125\n",
      "giant component init :  544\n",
      "giant component :  120\n",
      "giant component init :  544\n",
      "giant component :  120\n",
      "giant component init :  544\n",
      "...test: '0.210526' is Done! 0:00:02.373377\n",
      "giant component :  120\n",
      "giant component init :  544\n",
      "giant component :  120\n",
      "giant component init :  544\n",
      "giant component :  126\n",
      "giant component init :  544\n",
      "giant component :  125\n",
      "giant component init :  544\n",
      "giant component :  131\n",
      "giant component init :  544\n",
      "...test: '0.263158' is Done! 0:00:02.107889\n",
      "giant component :  124\n",
      "giant component init :  544\n",
      "giant component :  120\n",
      "giant component init :  544\n",
      "giant component :  122\n",
      "giant component init :  544\n",
      "giant component :  120\n",
      "giant component init :  544\n",
      "giant component :  122\n",
      "giant component init :  544\n",
      "...test: '0.315789' is Done! 0:00:02.167823\n",
      "giant component :  123\n",
      "giant component init :  544\n",
      "giant component :  139\n",
      "giant component init :  544\n",
      "giant component :  122\n",
      "giant component init :  544\n",
      "giant component :  123\n",
      "giant component init :  544\n",
      "giant component :  120\n",
      "giant component init :  544\n",
      "...test: '0.368421' is Done! 0:00:01.940970\n",
      "giant component :  120\n",
      "giant component init :  544\n",
      "giant component :  120\n",
      "giant component init :  544\n",
      "giant component :  120\n",
      "giant component init :  544\n",
      "giant component :  129\n",
      "giant component init :  544\n",
      "giant component :  123\n",
      "giant component init :  544\n",
      "...test: '0.421053' is Done! 0:00:01.892662\n",
      "giant component :  123\n",
      "giant component init :  544\n",
      "giant component :  137\n",
      "giant component init :  544\n",
      "giant component :  144\n",
      "giant component init :  544\n",
      "giant component :  137\n",
      "giant component init :  544\n",
      "giant component :  156\n",
      "giant component init :  544\n",
      "...test: '0.473684' is Done! 0:00:01.671665\n",
      "giant component :  125\n",
      "giant component init :  544\n",
      "giant component :  120\n",
      "giant component init :  544\n",
      "giant component :  156\n",
      "giant component init :  544\n",
      "giant component :  199\n",
      "giant component init :  544\n",
      "giant component :  143\n",
      "giant component init :  544\n",
      "...test: '0.526316' is Done! 0:00:01.627710\n",
      "giant component :  136\n",
      "giant component init :  544\n",
      "giant component :  150\n",
      "giant component init :  544\n",
      "giant component :  137\n",
      "giant component init :  544\n",
      "giant component :  127\n",
      "giant component init :  544\n",
      "giant component :  120\n",
      "giant component init :  544\n",
      "...test: '0.578947' is Done! 0:00:01.440721\n",
      "giant component :  143\n",
      "giant component init :  544\n",
      "giant component :  151\n",
      "giant component init :  544\n",
      "giant component :  210\n",
      "giant component init :  544\n",
      "giant component :  125\n",
      "giant component init :  544\n",
      "giant component :  135\n",
      "giant component init :  544\n",
      "...test: '0.631579' is Done! 0:00:01.388443\n",
      "giant component :  167\n",
      "giant component init :  544\n",
      "giant component :  131\n",
      "giant component init :  544\n",
      "giant component :  199\n",
      "giant component init :  544\n",
      "giant component :  239\n",
      "giant component init :  544\n",
      "giant component :  270\n",
      "giant component init :  544\n",
      "...test: '0.684211' is Done! 0:00:01.228039\n",
      "giant component :  186\n",
      "giant component init :  544\n",
      "giant component :  231\n",
      "giant component init :  544\n",
      "giant component :  177\n",
      "giant component init :  544\n",
      "giant component :  210\n",
      "giant component init :  544\n",
      "giant component :  275\n",
      "giant component init :  544\n",
      "...test: '0.736842' is Done! 0:00:01.100814\n",
      "giant component :  286\n",
      "giant component init :  544\n",
      "giant component :  370\n",
      "giant component init :  544\n",
      "giant component :  330\n",
      "giant component init :  544\n",
      "giant component :  198\n",
      "giant component init :  544\n",
      "giant component :  324\n",
      "giant component init :  544\n",
      "...test: '0.789474' is Done! 0:00:00.941033\n",
      "giant component :  423\n",
      "giant component init :  544\n",
      "giant component :  433\n",
      "giant component init :  544\n",
      "giant component :  320\n",
      "giant component init :  544\n",
      "giant component :  378\n",
      "giant component init :  544\n",
      "giant component :  167\n",
      "giant component init :  544\n",
      "...test: '0.842105' is Done! 0:00:00.798370\n",
      "giant component :  477\n",
      "giant component init :  544\n",
      "giant component :  448\n",
      "giant component init :  544\n",
      "giant component :  421\n",
      "giant component init :  544\n",
      "giant component :  401\n",
      "giant component init :  544\n",
      "giant component :  427\n",
      "giant component init :  544\n",
      "...test: '0.894737' is Done! 0:00:00.514157\n",
      "giant component :  477\n",
      "giant component init :  544\n",
      "giant component :  477\n",
      "giant component init :  544\n",
      "giant component :  456\n",
      "giant component init :  544\n",
      "giant component :  460\n",
      "giant component init :  544\n",
      "giant component :  466\n",
      "giant component init :  544\n",
      "...test: '0.947368' is Done! 0:00:00.353745\n",
      "giant component :  517\n",
      "giant component init :  544\n",
      "giant component :  517\n",
      "giant component init :  544\n",
      "giant component :  517\n",
      "giant component init :  544\n",
      "giant component :  517\n",
      "giant component init :  544\n",
      "giant component :  517\n",
      "giant component init :  544\n",
      "...test: '1.000000' is Done! 0:00:00.099199\n"
     ]
    }
   ],
   "source": [
    "n_file = \"../data/vertex/vertex.csv\"\n",
    "e_file = \"../data/edge/edge.csv\"\n",
    "edges_crosslayer = \"../data/edge/edge_m_tr.csv\"\n",
    "\n",
    "ParisResult_t5 = generate_pinf_real(n_file, e_file, edges_crosslayer, t=5)\n",
    "\n",
    "np.savetxt('./results/ParisResult_t5.csv', ParisResult_t5, delimiter=',')"
   ]
  },
  {
   "cell_type": "code",
   "execution_count": 4,
   "metadata": {},
   "outputs": [
    {
     "name": "stdout",
     "output_type": "stream",
     "text": [
      "0.22058823529411767\n",
      "0.22058823529411767\n",
      "0.22058823529411767\n",
      "0.22132352941176467\n",
      "0.2238970588235294\n",
      "0.2286764705882353\n",
      "0.2235294117647059\n",
      "0.2305147058823529\n",
      "0.225\n",
      "0.25625\n",
      "0.2731617647058823\n",
      "0.24632352941176466\n",
      "0.28088235294117647\n",
      "0.3698529411764706\n",
      "0.3966911764705882\n",
      "0.5544117647058824\n",
      "0.6327205882352941\n",
      "0.7992647058823529\n",
      "0.8588235294117647\n",
      "0.9503676470588236\n"
     ]
    },
    {
     "data": {
      "text/plain": [
       "<matplotlib.collections.PathCollection at 0x7fba5bfc78e0>"
      ]
     },
     "execution_count": 4,
     "metadata": {},
     "output_type": "execute_result"
    },
    {
     "data": {
      "image/png": "[encoded data removed]",
      "text/plain": [
       "<Figure size 432x288 with 1 Axes>"
      ]
     },
     "metadata": {
      "needs_background": "light"
     },
     "output_type": "display_data"
    }
   ],
   "source": [
    "ParisResult_t5 = np.loadtxt('./results/ParisResult_t5.csv',delimiter=\",\")\n",
    "\n",
    "for i in ParisResult_t5[1]:\n",
    "    print(i)\n",
    "\n",
    "plt.scatter(ParisResult_t5[0], ParisResult_t5[1])\n",
    "\n",
    "# plot_pinf([ParisResult_t5], 4, labels = [\"Paris Metro\"], path=\"../notebooks/figure/Paris_pinf.png\", p_theory=False)"
   ]
  },
  {
   "cell_type": "code",
   "execution_count": null,
   "metadata": {},
   "outputs": [],
   "source": [
    "SFn2000g23 = generate_pinf_SF(50, 2.3)  # SF model, node=500, gamma=2.3"
   ]
  },
  {
   "cell_type": "code",
   "execution_count": 16,
   "metadata": {},
   "outputs": [
    {
     "name": "stdout",
     "output_type": "stream",
     "text": [
      "(array([0.1       , 0.14210526, 0.18421053, 0.22631579, 0.26842105,\n",
      "       0.31052632, 0.35263158, 0.39473684, 0.43684211, 0.47894737,\n",
      "       0.52105263, 0.56315789, 0.60526316, 0.64736842, 0.68947368,\n",
      "       0.73157895, 0.77368421, 0.81578947, 0.85789474, 0.9       ]), array([0.02 , 0.02 , 0.032, 0.028, 0.056, 0.06 , 0.064, 0.112, 0.052,\n",
      "       0.056, 0.128, 0.324, 0.4  , 0.36 , 0.524, 0.656, 0.688, 0.82 ,\n",
      "       0.82 , 0.884]))\n"
     ]
    },
    {
     "data": {
      "text/plain": [
       "<matplotlib.collections.PathCollection at 0x7f8071e723a0>"
      ]
     },
     "execution_count": 16,
     "metadata": {},
     "output_type": "execute_result"
    },
    {
     "data": {
      "image/png": "[encoded data removed]",
      "text/plain": [
       "<Figure size 432x288 with 1 Axes>"
      ]
     },
     "metadata": {
      "needs_background": "light"
     },
     "output_type": "display_data"
    }
   ],
   "source": [
    "print(SFn2000g23)\n",
    "plt.scatter(SFn2000g23[0],SFn2000g23[1])"
   ]
  },
  {
   "cell_type": "code",
   "execution_count": null,
   "metadata": {},
   "outputs": [],
   "source": [
    "SFn2000g23 = generate_pinf_SF(50, 2.3)  # SF model, node=500, gamma=2.3\n",
    "SFn2000g27 = generate_pinf_SF(50, 2.7)  # SF model, node=500, gamma=2.7\n",
    "SFn2000g3 = generate_pinf_SF(2000, 3)  # SF model, node=500, gamma=3\n",
    "\n",
    "# plot_pinf([SFn2000g23, SFn2000g27, SFn2000g3], 4, [\"SF, n=2000, l=2.3\", \"SF, n=2000, l=2.7\", \"SF, n=2000, l=3\"],\n",
    "#               path=\"../notebooks/figure/SF_pinf.png\", p_theory=False)\n",
    "\n",
    "np.savetxt('./results/Sfn2000_23.csv', SFn2000g23, delimiter=',')\n",
    "np.savetxt('./results/Sfn2000_27.csv', SFn2000g27, delimiter=',')\n",
    "np.savetxt('./results/SFn2000_3.csv', SFn2000g3, delimiter=',')"
   ]
  }
 ],
 "metadata": {
  "interpreter": {
   "hash": "aee8b7b246df8f9039afb4144a1f6fd8d2ca17a180786b69acc140d282b71a49"
  },
  "kernelspec": {
   "display_name": "Python 3.9.1 64-bit",
   "language": "python",
   "name": "python3"
  },
  "language_info": {
   "codemirror_mode": {
    "name": "ipython",
    "version": 3
   },
   "file_extension": ".py",
   "mimetype": "text/x-python",
   "name": "python",
   "nbconvert_exporter": "python",
   "pygments_lexer": "ipython3",
   "version": "3.9.1"
  },
  "orig_nbformat": 4
 },
 "nbformat": 4,
 "nbformat_minor": 2
}
