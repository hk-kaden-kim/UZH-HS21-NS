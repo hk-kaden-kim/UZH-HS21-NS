{
 "cells": [
  {
   "cell_type": "code",
   "execution_count": null,
   "metadata": {},
   "outputs": [],
   "source": [
    "# Each node in G is either a road intersection,\n",
    "# a rail station or a metro station.\n",
    "\n",
    "# Vertex : metro 356->303(type = metro), train 241\n",
    "# Edge : metro 367, train 246\n",
    "\n",
    "# Using Edge, Vertex List >>> Metro, Train Graph Create"
   ]
  },
  {
   "cell_type": "code",
   "execution_count": 1,
   "metadata": {},
   "outputs": [],
   "source": [
    "import networkx as nx"
   ]
  },
  {
   "cell_type": "code",
   "execution_count": 40,
   "metadata": {},
   "outputs": [],
   "source": [
    "G = nx.read_graphml(\"../../data/graphml/multigraph.graphml\")"
   ]
  },
  {
   "cell_type": "code",
   "execution_count": 75,
   "metadata": {},
   "outputs": [],
   "source": [
    "df = nx.to_pandas_adjacency(G)"
   ]
  },
  {
   "cell_type": "code",
   "execution_count": 72,
   "metadata": {},
   "outputs": [],
   "source": [
    "def Filter_RealNetwork (G, filter=['metro','train']):\n",
    "\n",
    "    H = nx.Graph(G)\n",
    "\n",
    "    n = list(H.nodes)\n",
    "    n_id = []\n",
    "\n",
    "    for i in range(len(filter)):\n",
    "        _ = []\n",
    "        for node in H.nodes:\n",
    "            if H.nodes[node] != {}:\n",
    "                isFilter = H.nodes[node]['type'] == filter[i]\n",
    "                if (isFilter):\n",
    "                    _.append(node)\n",
    "        n_id.append(_)\n",
    "    \n",
    "    for i in range(len(n_id)):\n",
    "        for j in range(len(n_id[i])):\n",
    "            n.remove(n_id[i][j])\n",
    "    \n",
    "    H.remove_nodes_from(n)\n",
    "    \n",
    "    mapping = {}\n",
    "    for i in range(len(n_id)):\n",
    "        for j in range(len(n_id[i])):\n",
    "            mapping[n_id[i][j]] = str(i) + '-' + str(j)\n",
    "    \n",
    "    I = nx.relabel_nodes(H, mapping)\n",
    "\n",
    "    return I"
   ]
  },
  {
   "cell_type": "code",
   "execution_count": 73,
   "metadata": {},
   "outputs": [
    {
     "name": "stdout",
     "output_type": "stream",
     "text": [
      "42678\n",
      "544\n"
     ]
    }
   ],
   "source": [
    "print(len(G.nodes()))\n",
    "I = Filter_RealNetwork(G,filter = ['metro','train'])\n",
    "print(len(I.nodes()))"
   ]
  },
  {
   "cell_type": "code",
   "execution_count": 74,
   "metadata": {},
   "outputs": [],
   "source": [
    "df = nx.to_pandas_adjacency(I)"
   ]
  },
  {
   "cell_type": "code",
   "execution_count": null,
   "metadata": {},
   "outputs": [],
   "source": []
  }
 ],
 "metadata": {
  "interpreter": {
   "hash": "aee8b7b246df8f9039afb4144a1f6fd8d2ca17a180786b69acc140d282b71a49"
  },
  "kernelspec": {
   "display_name": "Python 3 (ipykernel)",
   "language": "python",
   "name": "python3"
  },
  "language_info": {
   "codemirror_mode": {
    "name": "ipython",
    "version": 3
   },
   "file_extension": ".py",
   "mimetype": "text/x-python",
   "name": "python",
   "nbconvert_exporter": "python",
   "pygments_lexer": "ipython3",
   "version": "3.9.7"
  }
 },
 "nbformat": 4,
 "nbformat_minor": 2
}
