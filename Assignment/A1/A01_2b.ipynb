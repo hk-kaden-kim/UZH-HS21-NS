{
 "cells": [
  {
   "cell_type": "markdown",
   "metadata": {},
   "source": [
    "# Assignment A01.2b Degree Distributions\n",
    "*For the same networks, compute and plot the degree distribution*\n",
    "\n",
    "1. Select axis scales (lin-lin/ lin-log/ log-log) that allow you to visualize better the distributions.\n",
    "2. **Remember to bin the data accordingly to the scales selected**\n",
    "\n",
    "*Test Datasets*\n",
    "- Zachary karate Club\n",
    "- NetSci collaborations\n",
    "- Facebook friendships\n"
   ]
  },
  {
   "cell_type": "code",
   "execution_count": 1,
   "metadata": {},
   "outputs": [],
   "source": [
    "import networkx as nx\n",
    "import matplotlib.pyplot as plt\n",
    "import numpy as np\n",
    "\n",
    "# Read and declare the class of graph data from gml files\n",
    "g_karate = nx.read_gml(\"data/graph_karate.gml\")\n",
    "g_netsci = nx.read_gml(\"data/graph_netsci.gml\")\n",
    "g_facebook = nx.read_gml(\"data/graph_facebook.gml\")"
   ]
  },
  {
   "cell_type": "markdown",
   "metadata": {},
   "source": [
    "## Define Class and Method for the assignment A01.2b\n",
    "\n",
    "**find_bin_arg.lin**\n",
    "\n",
    "- Input : class graph / the start of # of bins\n",
    "- Output : the proper # of bins for the graph / kinds of k / # of kinds of k / # of non-zero values in the histogram of the graph.\n",
    "\n",
    "**find_bin_arg.logspace**\n",
    "\n",
    "- Input : class graph / the start of # of bins\n",
    "- Output : Logspace with the proper # of bins for the graph / kinds of k / # of kinds of k / # of non-zero values in the histogram of the graph.\n",
    "\n",
    "*the proper # of bins...*\n",
    "\n",
    "*Using too many bins will give you holes in your histogram, using too few will lose too much detail, like looking at a low resolution image*"
   ]
  },
  {
   "cell_type": "code",
   "execution_count": 2,
   "metadata": {},
   "outputs": [],
   "source": [
    "class find_bin_arg():\n",
    "\n",
    "    sort_k = 0\n",
    "    num_sort_k = 0\n",
    "    num_bar_hist = 0\n",
    "\n",
    "    def lin (g, start_bins = 2):\n",
    "\n",
    "        g_degrees = g.degree()\n",
    "        g_k_list = [g_degrees[i] for i in g.nodes()]\n",
    "\n",
    "        num_bins = start_bins\n",
    "\n",
    "        while True:\n",
    "            try:\n",
    "                print (\n",
    "                '....Processing...',\n",
    "                'the # of bins:',  num_bins, end = '\\r'\n",
    "                )\n",
    "                \n",
    "                g_bins = num_bins\n",
    "                _ = np.histogram(g_k_list, bins=g_bins, density = True)\n",
    "\n",
    "                sort_k = set(g_k_list)\n",
    "                num_sort_k = len(sort_k)\n",
    "                num_bar_hist = np.count_nonzero(_[0])\n",
    "                \n",
    "                if num_sort_k <= num_bar_hist:\n",
    "                    break\n",
    "                else:\n",
    "                    num_bins = num_bins + 1\n",
    "            \n",
    "            except KeyboardInterrupt:\n",
    "                print('')\n",
    "                print('Program interrupted by user')\n",
    "                break\n",
    "\n",
    "        return (g_bins, list(sort_k), num_sort_k, num_bar_hist)\n",
    "\n",
    "\n",
    "\n",
    "\n",
    "    def log (g, start_bins = 2):\n",
    "\n",
    "        g_degrees = g.degree()\n",
    "        g_k_list = [g_degrees[i] for i in g.nodes()]\n",
    "        \n",
    "        log_start = np.log10(min(g_k_list))\n",
    "        log_end = np.log10(max(g_k_list)+1)\n",
    "\n",
    "        num_bins = start_bins\n",
    "\n",
    "        while True:\n",
    "            try:\n",
    "                print (\n",
    "                '....Processing...',\n",
    "                'the # of bins:',  num_bins, end = '\\r'\n",
    "                )\n",
    "                \n",
    "                g_bins = np.logspace(log_start, log_end, num_bins)\n",
    "                _ = np.histogram(g_k_list, bins=g_bins, density = True)\n",
    "\n",
    "                sort_k = set(g_k_list)\n",
    "                num_sort_k = len(sort_k)\n",
    "                num_bar_hist = np.count_nonzero(_[0])\n",
    "                \n",
    "                if num_sort_k <= num_bar_hist:\n",
    "                    break\n",
    "                else:\n",
    "                    num_bins = num_bins + 1\n",
    "            \n",
    "            except KeyboardInterrupt:\n",
    "                print('')\n",
    "                print('Program interrupted by user')\n",
    "                break\n",
    "        \n",
    "        return (g_bins, list(sort_k), num_sort_k, num_bar_hist)\n"
   ]
  },
  {
   "cell_type": "markdown",
   "metadata": {},
   "source": [
    "# 1. Using 'Zachary karate club' Dataset."
   ]
  },
  {
   "cell_type": "code",
   "execution_count": 3,
   "metadata": {},
   "outputs": [],
   "source": [
    "# Find the Dict degree of the network and create the List of degrees.\n",
    "g_karate_degrees = g_karate.degree()\n",
    "g_karate_k_list = [g_karate_degrees[i] for i in g_karate.nodes()]"
   ]
  },
  {
   "cell_type": "markdown",
   "metadata": {},
   "source": [
    "## **Answer : log-log scale with bins = logspace (# of bins = 26)**"
   ]
  },
  {
   "cell_type": "code",
   "execution_count": 4,
   "metadata": {},
   "outputs": [
    {
     "name": "stdout",
     "output_type": "stream",
     "text": [
      "the kinds of k...   1, 2, 3...12, 16, 17\n",
      "the num of kinds of k... 11\n",
      "the num of bar in the histogram... 11\n",
      "-------- Bin info ---------\n",
      "the number of bins : 26\n",
      "1.0, 1.1175828064975943, 1.2489913293790396, 1.3958512351785883, 1.5599793408640203...\n"
     ]
    },
    {
     "data": {
      "image/png": "[encoded data removed]",
      "text/plain": [
       "<Figure size 432x288 with 1 Axes>"
      ]
     },
     "metadata": {
      "needs_background": "light"
     },
     "output_type": "display_data"
    }
   ],
   "source": [
    "result = find_bin_arg.log(g_karate, 2)\n",
    "\n",
    "g_karate_bins = result[0]\n",
    "sort_karate_k = result[1]\n",
    "num_sort_karate_k = result[2]\n",
    "num_bar_karate_hist = result[3]\n",
    "\n",
    "print('the kinds of k...   ', end='')\n",
    "print(*sort_karate_k[:3], sep=\", \", end = '')\n",
    "print('...', end='')\n",
    "print(*sort_karate_k[-3:], sep=\", \")\n",
    "print('the num of kinds of k...', num_sort_karate_k)\n",
    "print('the num of bar in the histogram...', num_bar_karate_hist)\n",
    "\n",
    "_ = plt.hist(g_karate_k_list, bins=g_karate_bins, density = True)\n",
    "\n",
    "plt.title('Log-Log Scale')\n",
    "\n",
    "plt.xscale('log')\n",
    "plt.yscale('log')\n",
    "\n",
    "plt.xlabel('degree(log)')\n",
    "plt.ylabel('count(log)')\n",
    "\n",
    "print ('-------- Bin info ---------')\n",
    "print ('the number of bins :', len(g_karate_bins)-1)\n",
    "print (*_[1][:5], sep = ', ', end ='')\n",
    "print ('...')\n"
   ]
  },
  {
   "cell_type": "markdown",
   "metadata": {},
   "source": [
    "# 2. Using 'NetSci collaborations' Dataset."
   ]
  },
  {
   "cell_type": "code",
   "execution_count": 5,
   "metadata": {},
   "outputs": [],
   "source": [
    "# Find the Dict degree of the network and create the List of degrees.\n",
    "g_netsci_degrees = g_netsci.degree()\n",
    "g_netsci_k_list = [g_netsci_degrees[i] for i in g_netsci.nodes()]"
   ]
  },
  {
   "cell_type": "markdown",
   "metadata": {},
   "source": [
    "## **Answer : log-log scale with bins = logspace (# of bins = 55)**"
   ]
  },
  {
   "cell_type": "code",
   "execution_count": 6,
   "metadata": {},
   "outputs": [
    {
     "name": "stdout",
     "output_type": "stream",
     "text": [
      "the kinds of k...   1, 2, 3, 4, 5...19, 20, 21, 27, 34\n",
      "the num of kinds of k... 22\n",
      "the num of bar in the histogram... 22\n",
      "-------- Bin info ---------\n",
      "the number of bins : 55\n",
      "1.0, 1.0667777880698501, 1.1380148491192024, 1.214008963534027, 1.2950777968158007...\n"
     ]
    },
    {
     "data": {
      "image/png": "[encoded data removed]",
      "text/plain": [
       "<Figure size 432x288 with 1 Axes>"
      ]
     },
     "metadata": {
      "needs_background": "light"
     },
     "output_type": "display_data"
    }
   ],
   "source": [
    "result = find_bin_arg.log(g_netsci, 2)\n",
    "\n",
    "g_netsci_bins = result[0]\n",
    "sort_netsci_k = result[1]\n",
    "num_sort_netsci_k = result[2]\n",
    "num_bar_netsci_hist = result[3]\n",
    "\n",
    "print('the kinds of k...   ', end='')\n",
    "print(*sort_netsci_k[:5], sep=\", \", end = '')\n",
    "print('...', end='')\n",
    "print(*sort_netsci_k[-5:], sep=\", \")\n",
    "print('the num of kinds of k...', num_sort_netsci_k)\n",
    "print('the num of bar in the histogram...', num_bar_netsci_hist)\n",
    "\n",
    "_ = plt.hist(g_netsci_k_list, bins=g_netsci_bins, density = True)\n",
    "\n",
    "plt.title('Log-Log Scale')\n",
    "\n",
    "plt.xscale('log')\n",
    "plt.yscale('log')\n",
    "\n",
    "plt.xlabel('degree(log)')\n",
    "plt.ylabel('count(log)')\n",
    "\n",
    "print ('-------- Bin info ---------')\n",
    "print ('the number of bins :', len(g_netsci_bins)-1)\n",
    "print (*_[1][:5], sep = ', ', end ='')\n",
    "print ('...')\n"
   ]
  },
  {
   "cell_type": "markdown",
   "metadata": {},
   "source": [
    "# 3. Using 'Facebook friendship' Dataset."
   ]
  },
  {
   "cell_type": "code",
   "execution_count": 7,
   "metadata": {},
   "outputs": [],
   "source": [
    "# Find the Dict degree of the network and create the List of degrees.\n",
    "g_facebook_degrees = g_facebook.degree()\n",
    "g_facebook_k_list = [g_facebook_degrees[i] for i in g_facebook.nodes()]"
   ]
  },
  {
   "cell_type": "markdown",
   "metadata": {},
   "source": [
    "## **Answer : log-log scale with bins = logspace (# of bins = 1317)**"
   ]
  },
  {
   "cell_type": "code",
   "execution_count": 8,
   "metadata": {},
   "outputs": [
    {
     "name": "stdout",
     "output_type": "stream",
     "text": [
      "the kinds of k...   1, 2, 3, 4, 5...53, 792, 291, 294, 347\n",
      "the num of kinds of k... 227\n",
      "the num of bar in the histogram... 227\n",
      "-------- Bin info ---------\n",
      "the number of bins : 1317\n",
      "1.0, 1.00529317651034, 1.0106143707382493, 1.0159637309864529, 1.0213414063426676...\n"
     ]
    },
    {
     "data": {
      "image/png": "[encoded data removed]",
      "text/plain": [
       "<Figure size 432x288 with 1 Axes>"
      ]
     },
     "metadata": {
      "needs_background": "light"
     },
     "output_type": "display_data"
    }
   ],
   "source": [
    "result = find_bin_arg.log(g_facebook, 2)\n",
    "\n",
    "g_facebook_bins = result[0]\n",
    "sort_facebook_k = result[1]\n",
    "num_sort_facebook_k = result[2]\n",
    "num_bar_facebook_hist = result[3]\n",
    "\n",
    "print('the kinds of k...   ', end='')\n",
    "print(*sort_facebook_k[:5], sep=\", \", end = '')\n",
    "print('...', end='')\n",
    "print(*sort_facebook_k[-5:], sep=\", \")\n",
    "print('the num of kinds of k...', num_sort_facebook_k)\n",
    "print('the num of bar in the histogram...', num_bar_facebook_hist)\n",
    "\n",
    "_ = plt.hist(g_facebook_k_list, bins=g_facebook_bins, density = True)\n",
    "\n",
    "plt.title('Log-Log Scale')\n",
    "\n",
    "plt.xscale('log')\n",
    "plt.yscale('log')\n",
    "\n",
    "plt.xlabel('degree(log)')\n",
    "plt.ylabel('count(log)')\n",
    "\n",
    "print ('-------- Bin info ---------')\n",
    "print ('the number of bins :', len(g_facebook_bins)-1)\n",
    "print (*_[1][:5], sep = ', ', end ='')\n",
    "print ('...')\n"
   ]
  },
  {
   "cell_type": "markdown",
   "metadata": {},
   "source": [
    "# ============== APPENDIX ==============="
   ]
  },
  {
   "cell_type": "markdown",
   "metadata": {},
   "source": [
    "#### Karate Test : lin-lin Scale with Bins = 17"
   ]
  },
  {
   "cell_type": "code",
   "execution_count": 9,
   "metadata": {},
   "outputs": [
    {
     "name": "stdout",
     "output_type": "stream",
     "text": [
      "the kinds of k...   1, 2, 3...12, 16, 17\n",
      "the num of kinds of k... 11\n",
      "the num of bar in the histogram... 11\n",
      "-------- Bin info ---------\n",
      "the number of bins : 17\n",
      "1.0, 1.9411764705882353, 2.8823529411764706, 3.8235294117647056, 4.764705882352941...\n"
     ]
    },
    {
     "data": {
      "image/png": "[encoded data removed]",
      "text/plain": [
       "<Figure size 432x288 with 1 Axes>"
      ]
     },
     "metadata": {
      "needs_background": "light"
     },
     "output_type": "display_data"
    }
   ],
   "source": [
    "result = find_bin_arg.lin(g_karate, 2)\n",
    "\n",
    "g_karate_bins = result[0]\n",
    "sort_karate_k = result[1]\n",
    "num_sort_karate_k = result[2]\n",
    "num_bar_karate_hist = result[3]\n",
    "\n",
    "print('the kinds of k...   ', end='')\n",
    "print(*sort_karate_k[:3], sep=\", \", end = '')\n",
    "print('...', end='')\n",
    "print(*sort_karate_k[-3:], sep=\", \")\n",
    "print('the num of kinds of k...', num_sort_karate_k)\n",
    "print('the num of bar in the histogram...', num_bar_karate_hist)\n",
    "\n",
    "_ = plt.hist(g_karate_k_list, bins=g_karate_bins, density = True)\n",
    "\n",
    "plt.title('Lin-Lin Scale')\n",
    "\n",
    "plt.xlabel('degree(lin)')\n",
    "plt.ylabel('count(lin)')\n",
    "\n",
    "print ('-------- Bin info ---------')\n",
    "print ('the number of bins :', g_karate_bins)\n",
    "print (*_[1][:5], sep = ', ', end ='')\n",
    "print ('...')\n"
   ]
  },
  {
   "cell_type": "markdown",
   "metadata": {},
   "source": [
    "#### Karate Test : lin-log scale with bins =  17 "
   ]
  },
  {
   "cell_type": "code",
   "execution_count": 10,
   "metadata": {},
   "outputs": [
    {
     "name": "stdout",
     "output_type": "stream",
     "text": [
      "the kinds of k...   1, 2, 3...12, 16, 17\n",
      "the num of kinds of k... 11\n",
      "the num of bar in the histogram... 11\n",
      "-------- Bin info ---------\n",
      "the number of bins : 17\n",
      "1.0, 1.9411764705882353, 2.8823529411764706, 3.8235294117647056, 4.764705882352941...\n"
     ]
    },
    {
     "data": {
      "image/png": "[encoded data removed]",
      "text/plain": [
       "<Figure size 432x288 with 1 Axes>"
      ]
     },
     "metadata": {
      "needs_background": "light"
     },
     "output_type": "display_data"
    }
   ],
   "source": [
    "result = find_bin_arg.lin(g_karate, 2)\n",
    "\n",
    "g_karate_bins = result[0]\n",
    "sort_karate_k = result[1]\n",
    "num_sort_karate_k = result[2]\n",
    "num_bar_karate_hist = result[3]\n",
    "\n",
    "print('the kinds of k...   ', end='')\n",
    "print(*sort_karate_k[:3], sep=\", \", end = '')\n",
    "print('...', end='')\n",
    "print(*sort_karate_k[-3:], sep=\", \")\n",
    "print('the num of kinds of k...', num_sort_karate_k)\n",
    "print('the num of bar in the histogram...', num_bar_karate_hist)\n",
    "\n",
    "_ = plt.hist(g_karate_k_list, bins=g_karate_bins, density = True)\n",
    "\n",
    "plt.title('Lin-Log Scale')\n",
    "\n",
    "plt.xlabel('degree(lin)')\n",
    "plt.ylabel('count(log)')\n",
    "\n",
    "plt.yscale('log')\n",
    "\n",
    "print ('-------- Bin info ---------')\n",
    "print ('the number of bins :', g_karate_bins)\n",
    "print (*_[1][:5], sep = ', ', end ='')\n",
    "print ('...')\n"
   ]
  },
  {
   "cell_type": "markdown",
   "metadata": {},
   "source": [
    "#### NetSci lin-lin Scale with Bins = 33"
   ]
  },
  {
   "cell_type": "code",
   "execution_count": 11,
   "metadata": {},
   "outputs": [
    {
     "name": "stdout",
     "output_type": "stream",
     "text": [
      "the kinds of k...   1, 2, 3, 4, 5...19, 20, 21, 27, 34\n",
      "the num of kinds of k... 22\n",
      "the num of bar in the histogram... 22\n",
      "-------- Bin info ---------\n",
      "the number of bins : 33\n",
      "1.0, 2.0, 3.0, 4.0, 5.0...\n"
     ]
    },
    {
     "data": {
      "image/png": "[encoded data removed]",
      "text/plain": [
       "<Figure size 432x288 with 1 Axes>"
      ]
     },
     "metadata": {
      "needs_background": "light"
     },
     "output_type": "display_data"
    }
   ],
   "source": [
    "result = find_bin_arg.lin(g_netsci, 2)\n",
    "\n",
    "g_netsci_bins = result[0]\n",
    "sort_netsci_k = result[1]\n",
    "num_sort_netsci_k = result[2]\n",
    "num_bar_netsci_hist = result[3]\n",
    "\n",
    "print('the kinds of k...   ', end='')\n",
    "print(*sort_netsci_k[:5], sep=\", \", end = '')\n",
    "print('...', end='')\n",
    "print(*sort_netsci_k[-5:], sep=\", \")\n",
    "print('the num of kinds of k...', num_sort_netsci_k)\n",
    "print('the num of bar in the histogram...', num_bar_netsci_hist)\n",
    "\n",
    "_ = plt.hist(g_netsci_k_list, bins=g_netsci_bins, density = True)\n",
    "\n",
    "plt.title('Lin-Lin Scale')\n",
    "\n",
    "plt.xlabel('degree(lin)')\n",
    "plt.ylabel('count(lin)')\n",
    "\n",
    "print ('-------- Bin info ---------')\n",
    "print ('the number of bins :', g_netsci_bins)\n",
    "print (*_[1][:5], sep = ', ', end ='')\n",
    "print ('...')\n"
   ]
  },
  {
   "cell_type": "markdown",
   "metadata": {},
   "source": [
    "#### NetSci lin-log scale with bins =  33"
   ]
  },
  {
   "cell_type": "code",
   "execution_count": 12,
   "metadata": {},
   "outputs": [
    {
     "name": "stdout",
     "output_type": "stream",
     "text": [
      "the kinds of k...   1, 2, 3, 4, 5...19, 20, 21, 27, 34\n",
      "the num of kinds of k... 22\n",
      "the num of bar in the histogram... 22\n",
      "-------- Bin info ---------\n",
      "the number of bins : 33\n",
      "1.0, 2.0, 3.0, 4.0, 5.0...\n"
     ]
    },
    {
     "data": {
      "image/png": "[encoded data removed]",
      "text/plain": [
       "<Figure size 432x288 with 1 Axes>"
      ]
     },
     "metadata": {
      "needs_background": "light"
     },
     "output_type": "display_data"
    }
   ],
   "source": [
    "result = find_bin_arg.lin(g_netsci, 2)\n",
    "\n",
    "g_netsci_bins = result[0]\n",
    "sort_netsci_k = result[1]\n",
    "num_sort_netsci_k = result[2]\n",
    "num_bar_netsci_hist = result[3]\n",
    "\n",
    "print('the kinds of k...   ', end='')\n",
    "print(*sort_netsci_k[:5], sep=\", \", end = '')\n",
    "print('...', end='')\n",
    "print(*sort_netsci_k[-5:], sep=\", \")\n",
    "print('the num of kinds of k...', num_sort_netsci_k)\n",
    "print('the num of bar in the histogram...', num_bar_netsci_hist)\n",
    "\n",
    "_ = plt.hist(g_netsci_k_list, bins=g_netsci_bins, density = True)\n",
    "\n",
    "plt.title('Lin-Log Scale')\n",
    "plt.xlabel('degree(lin)')\n",
    "plt.ylabel('count(log)')\n",
    "\n",
    "plt.yscale('log')\n",
    "\n",
    "print ('-------- Bin info ---------')\n",
    "print ('the number of bins :', g_netsci_bins)\n",
    "print (*_[1][:5], sep = ', ', end ='')\n",
    "print ('...')\n"
   ]
  },
  {
   "cell_type": "markdown",
   "metadata": {},
   "source": [
    "#### Facebook Test : lin-lin Scale with Bins = 1044"
   ]
  },
  {
   "cell_type": "code",
   "execution_count": 13,
   "metadata": {},
   "outputs": [
    {
     "name": "stdout",
     "output_type": "stream",
     "text": [
      "the kinds of k...   1, 2, 3, 4, 5...53, 792, 291, 294, 347\n",
      "the num of kinds of k... 227\n",
      "the num of bar in the histogram... 227\n",
      "-------- Bin info ---------\n",
      "the number of bins : 1044\n",
      "1.0, 2.0, 3.0, 4.0, 5.0...\n"
     ]
    },
    {
     "data": {
      "image/png": "[encoded data removed]",
      "text/plain": [
       "<Figure size 432x288 with 1 Axes>"
      ]
     },
     "metadata": {
      "needs_background": "light"
     },
     "output_type": "display_data"
    }
   ],
   "source": [
    "result = find_bin_arg.lin(g_facebook, 2)\n",
    "\n",
    "g_facebook_bins = result[0]\n",
    "sort_facebook_k = result[1]\n",
    "num_sort_facebook_k = result[2]\n",
    "num_bar_facebook_hist = result[3]\n",
    "\n",
    "print('the kinds of k...   ', end='')\n",
    "print(*sort_facebook_k[:5], sep=\", \", end = '')\n",
    "print('...', end='')\n",
    "print(*sort_facebook_k[-5:], sep=\", \")\n",
    "print('the num of kinds of k...', num_sort_facebook_k)\n",
    "print('the num of bar in the histogram...', num_bar_facebook_hist)\n",
    "\n",
    "_ = plt.hist(g_facebook_k_list, bins=g_facebook_bins, density = True)\n",
    "\n",
    "plt.title('Lin-Lin Scale')\n",
    "plt.xlabel('degree(lin)')\n",
    "plt.ylabel('count(lin)')\n",
    "\n",
    "print ('-------- Bin info ---------')\n",
    "print ('the number of bins :', g_facebook_bins)\n",
    "print (*_[1][:5], sep = ', ', end ='')\n",
    "print ('...')\n"
   ]
  },
  {
   "cell_type": "markdown",
   "metadata": {},
   "source": [
    "#### Facebook Test: lin-log scale with bins =  1044"
   ]
  },
  {
   "cell_type": "code",
   "execution_count": 14,
   "metadata": {},
   "outputs": [
    {
     "name": "stdout",
     "output_type": "stream",
     "text": [
      "the kinds of k...   1, 2, 3, 4, 5...53, 792, 291, 294, 347\n",
      "the num of kinds of k... 227\n",
      "the num of bar in the histogram... 227\n",
      "-------- Bin info ---------\n",
      "the number of bins : 1044\n",
      "1.0, 2.0, 3.0, 4.0, 5.0...\n"
     ]
    },
    {
     "data": {
      "image/png": "[encoded data removed]",
      "text/plain": [
       "<Figure size 432x288 with 1 Axes>"
      ]
     },
     "metadata": {
      "needs_background": "light"
     },
     "output_type": "display_data"
    }
   ],
   "source": [
    "result = find_bin_arg.lin(g_facebook, 2)\n",
    "\n",
    "g_facebook_bins = result[0]\n",
    "sort_facebook_k = result[1]\n",
    "num_sort_facebook_k = result[2]\n",
    "num_bar_facebook_hist = result[3]\n",
    "\n",
    "print('the kinds of k...   ', end='')\n",
    "print(*sort_facebook_k[:5], sep=\", \", end = '')\n",
    "print('...', end='')\n",
    "print(*sort_facebook_k[-5:], sep=\", \")\n",
    "print('the num of kinds of k...', num_sort_facebook_k)\n",
    "print('the num of bar in the histogram...', num_bar_facebook_hist)\n",
    "\n",
    "_ = plt.hist(g_facebook_k_list, bins=g_facebook_bins, density = True)\n",
    "\n",
    "plt.title('Lin-Log Scale')\n",
    "plt.xlabel('degree(lin)')\n",
    "plt.ylabel('count(log)')\n",
    "\n",
    "plt.yscale('log')\n",
    "\n",
    "print ('-------- Bin info ---------')\n",
    "print ('the number of bins :', g_facebook_bins)\n",
    "print (*_[1][:5], sep = ', ', end ='')\n",
    "print ('...')\n"
   ]
  }
 ],
 "metadata": {
  "interpreter": {
   "hash": "aee8b7b246df8f9039afb4144a1f6fd8d2ca17a180786b69acc140d282b71a49"
  },
  "kernelspec": {
   "display_name": "Python 3",
   "language": "python",
   "name": "python3"
  },
  "language_info": {
   "codemirror_mode": {
    "name": "ipython",
    "version": 3
   },
   "file_extension": ".py",
   "mimetype": "text/x-python",
   "name": "python",
   "nbconvert_exporter": "python",
   "pygments_lexer": "ipython3",
   "version": "3.9.1"
  }
 },
 "nbformat": 4,
 "nbformat_minor": 2
}
